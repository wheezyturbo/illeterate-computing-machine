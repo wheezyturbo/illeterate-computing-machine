{
  "cells": [
    {
      "cell_type": "markdown",
      "metadata": {
        "id": "view-in-github",
        "colab_type": "text"
      },
      "source": [
        "<a href=\"https://colab.research.google.com/github/wheezyturbo/illeterate-computing-machine/blob/main/marksScrapper.ipynb\" target=\"_parent\"><img src=\"https://colab.research.google.com/assets/colab-badge.svg\" alt=\"Open In Colab\"/></a>"
      ]
    },
    {
      "cell_type": "code",
      "execution_count": 18,
      "metadata": {
        "id": "MG_1sIiatbiR"
      },
      "outputs": [],
      "source": [
        "import os\n",
        "\n",
        "\n",
        "def rrmdir(path):\n",
        "    for entry in os.scandir(path):\n",
        "        if entry.is_dir():\n",
        "            rrmdir(entry)\n",
        "        else:\n",
        "            os.remove(entry)\n",
        "    os.rmdir(path)\n",
        "rrmdir('/content/illeterate-computing-machine')\n",
        "os.chdir('/content/')"
      ]
    },
    {
      "cell_type": "code",
      "execution_count": 19,
      "metadata": {
        "colab": {
          "base_uri": "https://localhost:8080/"
        },
        "id": "l4O-i5touiAY",
        "outputId": "ac34b8cb-c87c-42df-95de-6fa23a63413a"
      },
      "outputs": [
        {
          "output_type": "stream",
          "name": "stdout",
          "text": [
            "sample_data\n",
            "Cloning into 'illeterate-computing-machine'...\n",
            "remote: Enumerating objects: 35, done.\u001b[K\n",
            "remote: Counting objects: 100% (35/35), done.\u001b[K\n",
            "remote: Compressing objects: 100% (27/27), done.\u001b[K\n",
            "remote: Total 35 (delta 9), reused 28 (delta 4), pack-reused 0\u001b[K\n",
            "Unpacking objects: 100% (35/35), 4.19 MiB | 5.95 MiB/s, done.\n"
          ]
        }
      ],
      "source": [
        "!ls\n",
        "!git clone https://github.com/wheezyturbo/illeterate-computing-machine.git"
      ]
    },
    {
      "cell_type": "code",
      "execution_count": 20,
      "metadata": {
        "colab": {
          "base_uri": "https://localhost:8080/"
        },
        "id": "rNurDShwXDC-",
        "outputId": "9116f3d7-7cd5-42b4-db88-fac0e875d919"
      },
      "outputs": [
        {
          "output_type": "stream",
          "name": "stdout",
          "text": [
            "/content/illeterate-computing-machine\n"
          ]
        }
      ],
      "source": [
        "cd illeterate-computing-machine/\n"
      ]
    },
    {
      "cell_type": "code",
      "execution_count": null,
      "metadata": {
        "colab": {
          "base_uri": "https://localhost:8080/"
        },
        "id": "3paX69bdXF1Z",
        "outputId": "90267d6f-eba0-4f0d-8492-22e6736c5063"
      },
      "outputs": [
        {
          "output_type": "stream",
          "name": "stdout",
          "text": [
            "Reading package lists... Done\n",
            "Building dependency tree       \n",
            "Reading state information... Done\n",
            "The following additional packages will be installed:\n",
            "  libdbus-glib-1-2 libdbusmenu-glib4 libdbusmenu-gtk3-4 xul-ext-ubufox\n",
            "Suggested packages:\n",
            "  fonts-lyx\n",
            "The following NEW packages will be installed:\n",
            "  firefox libdbus-glib-1-2 libdbusmenu-glib4 libdbusmenu-gtk3-4 xul-ext-ubufox\n",
            "0 upgraded, 5 newly installed, 0 to remove and 22 not upgraded.\n",
            "Need to get 60.4 MB of archives.\n",
            "After this operation, 241 MB of additional disk space will be used.\n",
            "Get:1 http://archive.ubuntu.com/ubuntu focal/main amd64 libdbus-glib-1-2 amd64 0.110-5fakssync1 [59.1 kB]\n",
            "Get:2 http://archive.ubuntu.com/ubuntu focal-updates/main amd64 firefox amd64 110.0.1+build2-0ubuntu0.20.04.1 [60.2 MB]\n",
            "Get:3 http://archive.ubuntu.com/ubuntu focal/main amd64 libdbusmenu-glib4 amd64 16.04.1+18.10.20180917-0ubuntu6 [41.2 kB]\n",
            "Get:4 http://archive.ubuntu.com/ubuntu focal/main amd64 libdbusmenu-gtk3-4 amd64 16.04.1+18.10.20180917-0ubuntu6 [27.7 kB]\n",
            "Get:5 http://archive.ubuntu.com/ubuntu focal/main amd64 xul-ext-ubufox all 3.4-0ubuntu1.17.10.1 [3,320 B]\n",
            "Fetched 60.4 MB in 2s (27.9 MB/s)\n",
            "Selecting previously unselected package libdbus-glib-1-2:amd64.\n",
            "(Reading database ... 128275 files and directories currently installed.)\n",
            "Preparing to unpack .../libdbus-glib-1-2_0.110-5fakssync1_amd64.deb ...\n",
            "Unpacking libdbus-glib-1-2:amd64 (0.110-5fakssync1) ...\n",
            "Selecting previously unselected package firefox.\n",
            "Preparing to unpack .../firefox_110.0.1+build2-0ubuntu0.20.04.1_amd64.deb ...\n",
            "Unpacking firefox (110.0.1+build2-0ubuntu0.20.04.1) ...\n",
            "Selecting previously unselected package libdbusmenu-glib4:amd64.\n",
            "Preparing to unpack .../libdbusmenu-glib4_16.04.1+18.10.20180917-0ubuntu6_amd64.deb ...\n",
            "Unpacking libdbusmenu-glib4:amd64 (16.04.1+18.10.20180917-0ubuntu6) ...\n",
            "Selecting previously unselected package libdbusmenu-gtk3-4:amd64.\n",
            "Preparing to unpack .../libdbusmenu-gtk3-4_16.04.1+18.10.20180917-0ubuntu6_amd64.deb ...\n",
            "Unpacking libdbusmenu-gtk3-4:amd64 (16.04.1+18.10.20180917-0ubuntu6) ...\n",
            "Selecting previously unselected package xul-ext-ubufox.\n",
            "Preparing to unpack .../xul-ext-ubufox_3.4-0ubuntu1.17.10.1_all.deb ...\n",
            "Unpacking xul-ext-ubufox (3.4-0ubuntu1.17.10.1) ...\n",
            "Setting up libdbusmenu-glib4:amd64 (16.04.1+18.10.20180917-0ubuntu6) ...\n",
            "Setting up libdbus-glib-1-2:amd64 (0.110-5fakssync1) ...\n",
            "Setting up xul-ext-ubufox (3.4-0ubuntu1.17.10.1) ...\n",
            "Setting up libdbusmenu-gtk3-4:amd64 (16.04.1+18.10.20180917-0ubuntu6) ...\n",
            "Setting up firefox (110.0.1+build2-0ubuntu0.20.04.1) ...\n",
            "update-alternatives: using /usr/bin/firefox to provide /usr/bin/gnome-www-browser (gnome-www-browser) in auto mode\n",
            "update-alternatives: using /usr/bin/firefox to provide /usr/bin/x-www-browser (x-www-browser) in auto mode\n",
            "Please restart all running instances of firefox, or you will experience problems.\n",
            "Processing triggers for man-db (2.9.1-1) ...\n",
            "Processing triggers for mime-support (3.64ubuntu1) ...\n",
            "Processing triggers for hicolor-icon-theme (0.17-2) ...\n",
            "Processing triggers for libc-bin (2.31-0ubuntu9.9) ...\n"
          ]
        }
      ],
      "source": [
        "!apt install firefox"
      ]
    },
    {
      "cell_type": "code",
      "execution_count": 21,
      "metadata": {
        "colab": {
          "base_uri": "https://localhost:8080/"
        },
        "id": "5Sf8Bn6rXIcl",
        "outputId": "9b5cff8c-225e-4f24-aff4-d171e80ba442"
      },
      "outputs": [
        {
          "output_type": "stream",
          "name": "stdout",
          "text": [
            "Looking in indexes: https://pypi.org/simple, https://us-python.pkg.dev/colab-wheels/public/simple/\n",
            "Requirement already satisfied: async-generator==1.10 in /usr/local/lib/python3.9/dist-packages (from -r requirements.txt (line 1)) (1.10)\n",
            "Requirement already satisfied: attrs==22.2.0 in /usr/local/lib/python3.9/dist-packages (from -r requirements.txt (line 2)) (22.2.0)\n",
            "Requirement already satisfied: certifi==2022.12.7 in /usr/local/lib/python3.9/dist-packages (from -r requirements.txt (line 3)) (2022.12.7)\n",
            "Requirement already satisfied: cffi==1.15.1 in /usr/local/lib/python3.9/dist-packages (from -r requirements.txt (line 4)) (1.15.1)\n",
            "Requirement already satisfied: click==8.1.3 in /usr/local/lib/python3.9/dist-packages (from -r requirements.txt (line 5)) (8.1.3)\n",
            "Requirement already satisfied: colorama==0.4.6 in /usr/local/lib/python3.9/dist-packages (from -r requirements.txt (line 6)) (0.4.6)\n",
            "Requirement already satisfied: exceptiongroup==1.1.0 in /usr/local/lib/python3.9/dist-packages (from -r requirements.txt (line 7)) (1.1.0)\n",
            "Requirement already satisfied: Flask==2.2.3 in /usr/local/lib/python3.9/dist-packages (from -r requirements.txt (line 8)) (2.2.3)\n",
            "Requirement already satisfied: h11==0.14.0 in /usr/local/lib/python3.9/dist-packages (from -r requirements.txt (line 9)) (0.14.0)\n",
            "Requirement already satisfied: idna==3.4 in /usr/local/lib/python3.9/dist-packages (from -r requirements.txt (line 10)) (3.4)\n",
            "Requirement already satisfied: itsdangerous==2.1.2 in /usr/local/lib/python3.9/dist-packages (from -r requirements.txt (line 11)) (2.1.2)\n",
            "Requirement already satisfied: Jinja2==3.1.2 in /usr/local/lib/python3.9/dist-packages (from -r requirements.txt (line 12)) (3.1.2)\n",
            "Requirement already satisfied: MarkupSafe==2.1.2 in /usr/local/lib/python3.9/dist-packages (from -r requirements.txt (line 13)) (2.1.2)\n",
            "Requirement already satisfied: outcome==1.2.0 in /usr/local/lib/python3.9/dist-packages (from -r requirements.txt (line 14)) (1.2.0)\n",
            "Requirement already satisfied: pycparser==2.21 in /usr/local/lib/python3.9/dist-packages (from -r requirements.txt (line 15)) (2.21)\n",
            "Requirement already satisfied: PySocks==1.7.1 in /usr/local/lib/python3.9/dist-packages (from -r requirements.txt (line 16)) (1.7.1)\n",
            "Requirement already satisfied: selenium==4.8.2 in /usr/local/lib/python3.9/dist-packages (from -r requirements.txt (line 17)) (4.8.2)\n",
            "Requirement already satisfied: sniffio==1.3.0 in /usr/local/lib/python3.9/dist-packages (from -r requirements.txt (line 18)) (1.3.0)\n",
            "Requirement already satisfied: sortedcontainers==2.4.0 in /usr/local/lib/python3.9/dist-packages (from -r requirements.txt (line 19)) (2.4.0)\n",
            "Requirement already satisfied: trio==0.22.0 in /usr/local/lib/python3.9/dist-packages (from -r requirements.txt (line 20)) (0.22.0)\n",
            "Requirement already satisfied: trio-websocket==0.9.2 in /usr/local/lib/python3.9/dist-packages (from -r requirements.txt (line 21)) (0.9.2)\n",
            "Requirement already satisfied: urllib3==1.26.14 in /usr/local/lib/python3.9/dist-packages (from -r requirements.txt (line 22)) (1.26.14)\n",
            "Requirement already satisfied: Werkzeug==2.2.3 in /usr/local/lib/python3.9/dist-packages (from -r requirements.txt (line 23)) (2.2.3)\n",
            "Requirement already satisfied: wsproto==1.2.0 in /usr/local/lib/python3.9/dist-packages (from -r requirements.txt (line 24)) (1.2.0)\n",
            "Requirement already satisfied: importlib-metadata>=3.6.0 in /usr/local/lib/python3.9/dist-packages (from Flask==2.2.3->-r requirements.txt (line 8)) (6.0.0)\n",
            "Requirement already satisfied: zipp>=0.5 in /usr/local/lib/python3.9/dist-packages (from importlib-metadata>=3.6.0->Flask==2.2.3->-r requirements.txt (line 8)) (3.15.0)\n"
          ]
        }
      ],
      "source": [
        "pip install -r requirements.txt"
      ]
    },
    {
      "cell_type": "markdown",
      "metadata": {
        "id": "NyC_5T9JX3xQ"
      },
      "source": [
        "# **this is without flask it will print the scrapped data into the console ie the marks **: "
      ]
    },
    {
      "cell_type": "code",
      "execution_count": null,
      "metadata": {
        "colab": {
          "base_uri": "https://localhost:8080/"
        },
        "id": "2wN1HwM8XMM1",
        "outputId": "d4b44065-4b42-4989-9544-b810856430e2"
      },
      "outputs": [
        {
          "name": "stdout",
          "output_type": "stream",
          "text": [
            "SANOOP P J  completed...\n",
            "JOYAL JOSE  completed...\n",
            "JAIS BINOY  completed...\n",
            "ATHUL VARKEY  completed...\n",
            "BIMAL KRISHNA  completed...\n",
            "LIJO N S  completed...\n",
            "SHIHANA V P  completed...\n",
            "EBIN THOMAS  completed...\n",
            "JESNI FAISAL K F  completed...\n",
            "RISHWAL T P  completed...\n",
            "ABHAY FRANCIS  completed...\n",
            "MUHAMMAD MUBASHEER A  completed...\n",
            "[{'regno': 'mm20ccsr18', 'name': 'JOYAL JOSE', 'percentage': '83.53', 'marks': {'Web Technology': '38', 'Java Programming': '42', 'Computation Using Python': '38', 'Algorithm Designing': '44', 'Quantitative Arithmetic and Reasoning': '25'}}, {'regno': 'mm20ccsr22', 'name': 'SANOOP P J', 'percentage': '83.41', 'marks': {'Web Technology': '44', 'Java Programming': '41', 'Computation Using Python': '35', 'Algorithm Designing': '41', 'Quantitative Arithmetic and Reasoning': '25'}}, {'regno': 'mm20ccsr16', 'name': 'JAIS BINOY', 'percentage': '82.94', 'marks': {'Web Technology': '43', 'Java Programming': '40', 'Computation Using Python': '39', 'Algorithm Designing': '40', 'Environmental Studies': '24'}}, {'regno': 'mm20ccsr13', 'name': 'ATHUL VARKEY', 'percentage': '82.71', 'marks': {'Web Technology': '40', 'Java Programming': '35', 'Computation Using Python': '37', 'Algorithm Designing': '48', 'Quantitative Arithmetic and Reasoning': '25'}}, {'regno': 'mm20ccsr19', 'name': 'LIJO N S', 'percentage': '76.12', 'marks': {'Web Technology': '38', 'Java Programming': '35', 'Computation Using Python': '33', 'Algorithm Designing': '46', 'Janapriya Cinema Padanam': '18'}}, {'regno': 'WM20BCAR12', 'name': 'RISHWAL T P', 'percentage': '74.00', 'marks': {'Operating System': '35', 'Enterprise Java Programming': '40', 'Python Programming': '42', 'Web Technology': '36', 'Information Security': '29', 'E- Commerce': '21'}}, {'regno': 'WM20BCAR01', 'name': 'ABHAY FRANCIS', 'percentage': '70.38', 'marks': {'Operating System': '33', 'Enterprise Java Programming': '38', 'Python Programming': '34', 'Web Technology': '36', 'Information Security': '36', 'E- Commerce': '16'}}, {'regno': 'mm20ccsr30', 'name': 'SHIHANA V P', 'percentage': '68.59', 'marks': {'Web Technology': '40', 'Java Programming': '31', 'Computation Using Python': '33', 'Algorithm Designing': '35', 'Health and Physical Education': '15'}}, {'regno': 'WM20BCAR02', 'name': 'EBIN THOMAS', 'percentage': '60.50', 'marks': {'Operating System': '27', 'Enterprise Java Programming': '31', 'Python Programming': '26', 'Web Technology': '36', 'Information Security': '29', 'E- Commerce': '17'}}, {'regno': 'mm20ccsr14', 'name': 'BIMAL KRISHNA', 'percentage': '56.24', 'marks': {'Web Technology': '24', 'Java Programming': '29', 'Computation Using Python': '26', 'Algorithm Designing': '28', 'Janapriya Cinema Padanam': '19'}}, {'regno': 'WM20BCAR06', 'name': 'JESNI FAISAL K F', 'percentage': 'Fail', 'marks': {'Operating System': '19', 'Enterprise Java Programming': '33', 'Python Programming': '26', 'Web Technology': '26', 'Information Security': '31', 'E- Commerce': '18'}}, {'regno': 'WM20BCAR03', 'name': 'MUHAMMAD MUBASHEER A', 'percentage': 'Fail', 'marks': {'Operating System': '28', 'Enterprise Java Programming': '22', 'Python Programming': '23', 'Web Technology': '29', 'Information Security': '32', 'E- Commerce': '19'}}]\n"
          ]
        }
      ],
      "source": [
        "from selenium import webdriver\n",
        "from selenium.webdriver.firefox.options import Options\n",
        "from selenium.webdriver.common.by import By\n",
        "from selenium.webdriver.support.ui import WebDriverWait\n",
        "from selenium.webdriver.support import expected_conditions as EC\n",
        "from flask import Flask, jsonify,render_template,request\n",
        "\n",
        "# app = Flask(__name__)\n",
        "\n",
        "\n",
        "regarray = ['mm20ccsr22','mm20ccsr18', 'mm20ccsr16', 'mm20ccsr13','mm20ccsr14','mm20ccsr19','mm20ccsr30','WM20BCAR02','WM20BCAR06','WM20BCAR12','WM20BCAR01','WM20BCAR03']\n",
        "aadhararray = [686185381631,578533381676, 823508626405, 783917821528,292531761206,780080049949,885417748021,331693014683,250826071094,632336907426,814114687132,373297720804]\n",
        "# regarray = ['WM20BCAR02']\n",
        "# aadhararray = [331693014683]\n",
        "\n",
        "\n",
        "# Set Firefox options to run in headless mode\n",
        "options = Options()\n",
        "options.add_argument('-headless')\n",
        "\n",
        "cs = []\n",
        "\n",
        "def scrape(link):\n",
        "      cs.clear()\n",
        "      driver = webdriver.Firefox(options = options)\n",
        "      for i in range(len(aadhararray)):\n",
        "      # Create Firefox instance with headless option\n",
        "            # driver.get('http://www.exam.kannuruniversity.ac.in/UG/bsc5semresult2021/result19.php')\n",
        "            # driver.get('http://www.exam.kannuruniversity.ac.in/UG/bsc4semresult2022_new/result19.php')\n",
        "            driver.get(link)\n",
        "\n",
        "            regno_ = driver.find_element(\"xpath\", '//*[@id=\"regno\"]')\n",
        "            regno_.send_keys(regarray[i])\n",
        "\n",
        "            aadhar = driver.find_element(\"xpath\", '//*[@id=\"aadhaar\"]')\n",
        "            aadhar.send_keys(int(aadhararray[i]))\n",
        "            \n",
        "            driver.find_element(\"xpath\",'//*[@id=\"cut\"]')\\\n",
        "                  .click()\n",
        "            \n",
        "            # Wait for the result page to load\n",
        "            wait = WebDriverWait(driver, 10)  # maximum wait time of 10 seconds\n",
        "            wait.until(EC.presence_of_element_located((By.XPATH, '//span[contains(@style, \"left: 14\") and contains(@style, \"top: 31\")]')))\n",
        "            \n",
        "            name_ = driver.find_element(\"xpath\", '//span[contains(@style, \"left: 14\") and contains(@style, \"top: 31\")]').text\n",
        "            # markp = driver.find_element(\"xpath\",'//span[contains(@style, \"left: 34.35%; top: 55.86%\")]').text\n",
        "            \n",
        "\n",
        "\n",
        "            #scraping the percentage\n",
        "            # markp = driver.find_element(\"xpath\",'//span[contains(@style, \"left: 34.35%\")]').text\n",
        "            markp_element = driver.find_element(\"xpath\",'//span[contains(@style, \"left: 34.35%\") or contains(@style, \"left: 36.17%\")]')\n",
        "            if markp_element.text != '-':\n",
        "                  markp = markp_element.text\n",
        "            else:\n",
        "                  markp = 'Fail'\n",
        "\n",
        "\n",
        "            \n",
        "            print(name_,\" completed...\")\n",
        "\n",
        "            # scraping marks\n",
        "            # mark_elements = driver.find_elements(\"xpath\", '//span[contains(@style, \"left: 71.38%\")]')\n",
        "            # marks = [mark_element.text for mark_element in mark_elements]\n",
        "            mark_elements = driver.find_elements(\"xpath\", '//span[contains(@style, \"left: 71.38%\")]')\n",
        "            marks = []\n",
        "            for mark_element in mark_elements:\n",
        "                  if mark_element.text != '-':\n",
        "                        marks.append(mark_element.text)\n",
        "                  else:\n",
        "                        marks.append('Fail')\n",
        "\n",
        "            subject_elements = driver.find_elements(\"xpath\", '//span[contains(@style, \"left: 16.63%\")]')\n",
        "            subjects = [subject_element.text for subject_element in subject_elements]\n",
        "\n",
        "\n",
        "            mark_dict = {}\n",
        "            for j in range(len(subjects)):\n",
        "                  try:\n",
        "                        mark_dict[subjects[j]] = marks[j]\n",
        "                  except:\n",
        "                        mark_dict[subjects[j]] = '0'\n",
        "\n",
        "\n",
        "            result = {\"regno\": regarray[i], \"name\": name_, \"percentage\": markp, \"marks\": mark_dict}\n",
        "            #     print(result)\n",
        "            cs.append(result)\n",
        "\n",
        "\n",
        "      driver.quit()\n",
        "      cs.sort(key=lambda x: float(x['percentage'].replace('Fail', '0')), reverse=True)\n",
        "\n",
        "      return cs\n",
        "scrape('http://www.exam.kannuruniversity.ac.in/UG/bsc5semresult2021/result19.php')\n",
        "print(cs)\n",
        "# @app.route('/cs')\n",
        "# def get_cs():\n",
        "#     link = request.args.get('link')\n",
        "#     return jsonify(scrape(link))\n",
        "\n",
        "# @app.route('/')\n",
        "# def index():\n",
        "    \n",
        "#     return render_template(\"test.html\")\n",
        "\n",
        "# if __name__ == '__main__':\n",
        "#     app.run(debug=True)"
      ]
    },
    {
      "cell_type": "code",
      "execution_count": null,
      "metadata": {
        "colab": {
          "base_uri": "https://localhost:8080/"
        },
        "id": "WAZQmL2GZrg3",
        "outputId": "c266a0ea-95e6-4caa-fd8a-ab5484b2c713"
      },
      "outputs": [
        {
          "output_type": "stream",
          "name": "stdout",
          "text": [
            "Archive:  ngrok-stable-linux-amd64.zip\n",
            "  inflating: ngrok                   \n"
          ]
        },
        {
          "output_type": "stream",
          "name": "stderr",
          "text": [
            "  % Total    % Received % Xferd  Average Speed   Time    Time     Time  Current\n",
            "                                 Dload  Upload   Total   Spent    Left  Speed\n",
            "\r  0     0    0     0    0     0      0      0 --:--:-- --:--:-- --:--:--     0\r  0 13.2M    0   98k    0     0   205k      0  0:01:06 --:--:--  0:01:06  205k\r100 13.2M  100 13.2M    0     0  13.4M      0 --:--:-- --:--:-- --:--:-- 13.4M\n"
          ]
        }
      ],
      "source": [
        "%%sh\n",
        "curl -O https://bin.equinox.io/c/4VmDzA7iaHb/ngrok-stable-linux-amd64.zip\n",
        "unzip ngrok-stable-linux-amd64.zip"
      ]
    },
    {
      "cell_type": "code",
      "execution_count": null,
      "metadata": {
        "colab": {
          "base_uri": "https://localhost:8080/"
        },
        "id": "V_RScIyLaAPk",
        "outputId": "bff8bc98-fce7-458a-bce7-10fd12fcd1b7"
      },
      "outputs": [
        {
          "output_type": "stream",
          "name": "stdout",
          "text": [
            "Authtoken saved to configuration file: /root/.ngrok2/ngrok.yml\n"
          ]
        }
      ],
      "source": [
        "!cp ngrok /usr/bin/\n",
        "!ngrok authtoken 2Mnv3hTNbuOWJqgO0sdW075jkH8_FfZe3pv1YoK43CdtGw6X\n"
      ]
    },
    {
      "cell_type": "markdown",
      "metadata": {
        "id": "_Few4d2CcySy"
      },
      "source": [
        "**click the running on ngrok.io link to access the dummy front end that uses the api to display the marks in the form of cards also wait for after clikcing the do it button because this takes some time to scrape and show the results**"
      ]
    },
    {
      "cell_type": "code",
      "execution_count": 12,
      "metadata": {
        "colab": {
          "base_uri": "https://localhost:8080/"
        },
        "id": "CY7zOEo_XsnM",
        "outputId": "04389230-0587-4e5f-ebed-5aa04a1a41fb"
      },
      "outputs": [
        {
          "metadata": {
            "tags": null
          },
          "name": "stdout",
          "output_type": "stream",
          "text": [
            " * Serving Flask app '__main__'\n",
            " * Debug mode: off\n"
          ]
        },
        {
          "metadata": {
            "tags": null
          },
          "name": "stderr",
          "output_type": "stream",
          "text": [
            "INFO:werkzeug:\u001b[31m\u001b[1mWARNING: This is a development server. Do not use it in a production deployment. Use a production WSGI server instead.\u001b[0m\n",
            " * Running on http://127.0.0.1:5000\n",
            "INFO:werkzeug:\u001b[33mPress CTRL+C to quit\u001b[0m\n"
          ]
        },
        {
          "metadata": {
            "tags": null
          },
          "name": "stdout",
          "output_type": "stream",
          "text": [
            " * Running on http://6800-35-203-158-22.ngrok.io\n",
            " * Traffic stats available on http://127.0.0.1:4040\n"
          ]
        }
      ],
      "source": [
        "from selenium import webdriver\n",
        "from selenium.webdriver.firefox.options import Options\n",
        "from selenium.webdriver.common.by import By\n",
        "from selenium.webdriver.support.ui import WebDriverWait\n",
        "from selenium.webdriver.support import expected_conditions as EC\n",
        "from flask import Flask, jsonify,render_template,request\n",
        "from flask_ngrok import run_with_ngrok\n",
        "\n",
        "app = Flask(__name__)\n",
        "run_with_ngrok(app) \n",
        "\n",
        "regarray = ['mm20ccsr22','mm20ccsr18', 'mm20ccsr16', 'mm20ccsr13','mm20ccsr14','mm20ccsr19','mm20ccsr30','WM20BCAR02','WM20BCAR06','WM20BCAR12','WM20BCAR01','WM20BCAR03']\n",
        "aadhararray = [686185381631,578533381676, 823508626405, 783917821528,292531761206,780080049949,885417748021,331693014683,250826071094,632336907426,814114687132,373297720804]\n",
        "# regarray = ['WM20BCAR02']\n",
        "# aadhararray = [331693014683]\n",
        "\n",
        "\n",
        "# Set Firefox options to run in headless mode\n",
        "options = Options()\n",
        "options.add_argument('-headless')\n",
        "\n",
        "cs = []\n",
        "\n",
        "def scrape(link):\n",
        "      cs.clear()\n",
        "      driver = webdriver.Firefox(options = options)\n",
        "      for i in range(len(aadhararray)):\n",
        "        try:\n",
        "      # Create Firefox instance with headless option\n",
        "            # driver.get('http://www.exam.kannuruniversity.ac.in/UG/bsc5semresult2021/result19.php')\n",
        "            # driver.get('http://www.exam.kannuruniversity.ac.in/UG/bsc4semresult2022_new/result19.php')\n",
        "            driver.get(link)\n",
        "\n",
        "            regno_ = driver.find_element(\"xpath\", '//*[@id=\"regno\"]')\n",
        "            regno_.send_keys(regarray[i])\n",
        "\n",
        "            aadhar = driver.find_element(\"xpath\", '//*[@id=\"aadhaar\"]')\n",
        "            aadhar.send_keys(int(aadhararray[i]))\n",
        "            \n",
        "            driver.find_element(\"xpath\",'//*[@id=\"cut\"]')\\\n",
        "                  .click()\n",
        "            \n",
        "            # Wait for the result page to load\n",
        "            wait = WebDriverWait(driver, 5)  # maximum wait time of 10 seconds\n",
        "            wait.until(EC.presence_of_element_located((By.XPATH, '//span[contains(@style, \"left: 14\") and contains(@style, \"top: 31\")]')))\n",
        "            \n",
        "            name_ = driver.find_element(\"xpath\", '//span[contains(@style, \"left: 14\") and contains(@style, \"top: 31\")]').text\n",
        "            # markp = driver.find_element(\"xpath\",'//span[contains(@style, \"left: 34.35%; top: 55.86%\")]').text\n",
        "            \n",
        "\n",
        "\n",
        "            #scraping the percentage\n",
        "            # markp = driver.find_element(\"xpath\",'//span[contains(@style, \"left: 34.35%\")]').text\n",
        "            markp_element = driver.find_element(\"xpath\",'//span[contains(@style, \"left: 34.35%\") or contains(@style, \"left: 36.17%\")]')\n",
        "            if markp_element.text != '-':\n",
        "                  markp = markp_element.text\n",
        "            else:\n",
        "                  markp = 'Fail'\n",
        "\n",
        "\n",
        "            \n",
        "            print(name_,\" completed...\")\n",
        "\n",
        "            # scraping marks\n",
        "            # mark_elements = driver.find_elements(\"xpath\", '//span[contains(@style, \"left: 71.38%\")]')\n",
        "            # marks = [mark_element.text for mark_element in mark_elements]\n",
        "            mark_elements = driver.find_elements(\"xpath\", '//span[contains(@style, \"left: 71.38%\")]')\n",
        "            marks = []\n",
        "            for mark_element in mark_elements:\n",
        "                  if mark_element.text != '-':\n",
        "                        marks.append(mark_element.text)\n",
        "                  else:\n",
        "                        marks.append('Fail')\n",
        "\n",
        "            subject_elements = driver.find_elements(\"xpath\", '//span[contains(@style, \"left: 16.63%\")]')\n",
        "            subjects = [subject_element.text for subject_element in subject_elements]\n",
        "\n",
        "\n",
        "            mark_dict = {}\n",
        "            for j in range(len(subjects)):\n",
        "                  try:\n",
        "                        mark_dict[subjects[j]] = marks[j]\n",
        "                  except:\n",
        "                        mark_dict[subjects[j]] = '0'\n",
        "\n",
        "\n",
        "            result = {\"regno\": regarray[i], \"name\": name_, \"percentage\": markp, \"marks\": mark_dict}\n",
        "            #     print(result)\n",
        "            cs.append(result)\n",
        "        except Exception as e:\n",
        "          print(regarray[i] ,'exception' , e)\n",
        "\n",
        "      driver.quit()\n",
        "      try:\n",
        "        cs.sort(key=lambda x: float(x['percentage'].replace('Fail'or'-', '0')), reverse=True)\n",
        "      except:\n",
        "        print('replace exception')\n",
        "\n",
        "      return cs\n",
        "@app.route('/cs')\n",
        "def get_cs():\n",
        "    link = request.args.get('link')\n",
        "    return jsonify(scrape(link))\n",
        "\n",
        "@app.route('/')\n",
        "def index():\n",
        "    \n",
        "    return render_template(\"test.html\")\n",
        "\n",
        "if __name__ == '__main__':\n",
        "    app.run()"
      ]
    },
    {
      "cell_type": "code",
      "execution_count": null,
      "metadata": {
        "id": "m47TU0g5cfG8"
      },
      "outputs": [],
      "source": [
        "from selenium import webdriver\n",
        "from selenium.webdriver.firefox.options import Options\n",
        "from selenium.webdriver.common.by import By\n",
        "from selenium.webdriver.support.ui import WebDriverWait\n",
        "from selenium.webdriver.support import expected_conditions as EC\n",
        "from flask import Flask, jsonify,render_template,request\n",
        "import bca\n",
        "import bsccs\n",
        "import re\n",
        "\n",
        "def get_course_semester(url):\n",
        "    # Extract the course and semester information from the URL using regex\n",
        "    match = re.search(r'/(\\w+\\d+)semresult', url)\n",
        "    if match:\n",
        "        course_semester = match.group(1)\n",
        "        course = re.search(r'^\\D+', course_semester).group()\n",
        "        semester = int(re.search(r'\\d+$', course_semester).group())\n",
        "        print(semester)\n",
        "        return (course, semester)\n",
        "    else:\n",
        "        return None\n",
        "\n",
        "# from flask_ngrok import run_with_ngrok\n",
        "\n",
        "app = Flask(__name__)\n",
        "# run_with_ngrok(app) \n",
        "\n",
        "regarray = ['mm20ccsr22','mm20ccsr18', 'mm20ccsr16', 'mm20ccsr13','mm20ccsr14','mm20ccsr19','mm20ccsr30','WM20BCAR02','WM20BCAR06','WM20BCAR12','WM20BCAR01','WM20BCAR03']\n",
        "aadhararray = [686185381631,578533381676, 823508626405, 783917821528,292531761206,780080049949,885417748021,331693014683,250826071094,632336907426,814114687132,373297720804]\n",
        "# regarray = ['WM20BCAR02']\n",
        "# aadhararray = [331693014683]\n",
        "\n",
        "\n",
        "# Set Firefox options to run in headless mode\n",
        "options = Options()\n",
        "options.add_argument('-headless')\n",
        "\n",
        "cs = []\n",
        "\n",
        "def scrape(link):\n",
        "    print(\"starting...\")\n",
        "    course, semester = get_course_semester(link)\n",
        "    print(course,semester)\n",
        "    cs.clear()\n",
        "    marks_dict = {}\n",
        "    driver = webdriver.Firefox(options=options)\n",
        "    for i in range(len(aadhararray)):\n",
        "        try:\n",
        "            driver.get(link)\n",
        "            course_names = []\n",
        "            if 'ccsr' in regarray[i].lower():\n",
        "                course_names = bsccs.course_names(semester)\n",
        "            elif 'bcar' in regarray[i].lower():\n",
        "                course_names = bca.course_names(semester)\n",
        "            regno_ = driver.find_element(\"xpath\", '//*[@id=\"regno\"]')\n",
        "            regno_.send_keys(regarray[i])\n",
        "            aadhar = driver.find_element(\"xpath\", '//*[@id=\"aadhaar\"]')\n",
        "            aadhar.send_keys(int(aadhararray[i]))\n",
        "            driver.find_element(\"xpath\", '//*[@id=\"cut\"]') \\\n",
        "                .click()\n",
        "\n",
        "            wait = WebDriverWait(driver, 5)\n",
        "            wait.until(EC.presence_of_element_located((By.XPATH, '//span[contains(@style, \"left: 14\") and contains(@style, \"top: 31\")]')))\n",
        "\n",
        "            try:\n",
        "                course_spans = driver.find_elements(By.TAG_NAME,\"span\")\n",
        "                marks_dict = {}\n",
        "                for course_name in course_names:\n",
        "                    for span in course_spans:\n",
        "                        if course_name in span.text:\n",
        "                            marks = span.find_element('xpath',\"./following-sibling::span[10]\").text\n",
        "                            marks_dict[course_name] = marks\n",
        "                            break\n",
        "\n",
        "                print(marks_dict)\n",
        "            except Exception as e:\n",
        "                print(e)\n",
        "\n",
        "            name_ = driver.find_element(\"xpath\", '//span[contains(@style, \"left: 14\") and contains(@style, \"top: 31\")]').text\n",
        "            markp_element = driver.find_element(\"xpath\", '//span[contains(@style, \"left: 34.35%\") or contains(@style, \"left: 36.17%\")]')\n",
        "            if markp_element.text != '-':\n",
        "                markp = markp_element.text\n",
        "            else:\n",
        "                markp = 'Fail'\n",
        "\n",
        "            print(name_, \" completed...\")\n",
        "\n",
        "            result = {\"regno\": regarray[i], \"name\": name_, \"percentage\": markp, \"marks\": marks_dict}\n",
        "            cs.append(result)\n",
        "        except:\n",
        "            print(regarray[i], 'exception')\n",
        "\n",
        "    driver.quit()\n",
        "    try:\n",
        "        cs.sort(key=lambda x: float(x['percentage'].replace('Fail' or '-', '0')), reverse=True)\n",
        "    except:\n",
        "        print('replace exception')\n",
        "\n",
        "    return cs\n",
        "\n",
        "\n",
        "\n",
        "\n",
        "\n",
        "# print(scrape('http://www.exam.kannuruniversity.ac.in/UG/bsc2semresult2020_new/result19.php'))\n",
        "\n",
        "@app.route('/cs')\n",
        "def get_cs():\n",
        "    link = request.args.get('link')\n",
        "    return jsonify(scrape(link))\n",
        "\n",
        "@app.route('/')\n",
        "def index():\n",
        "    print('req')\n",
        "    return render_template(\"test.html\")\n",
        "\n",
        "if __name__ == '__main__':\n",
        "    app.run(debug=True)\n"
      ]
    },
    {
      "cell_type": "markdown",
      "source": [
        "***better Stuff need subjects list predefined in the name modules***"
      ],
      "metadata": {
        "id": "AfgBTNzebtpQ"
      }
    },
    {
      "cell_type": "code",
      "source": [
        "from selenium import webdriver\n",
        "from selenium.webdriver.firefox.options import Options\n",
        "from selenium.webdriver.common.by import By\n",
        "from selenium.webdriver.support.ui import WebDriverWait\n",
        "from selenium.webdriver.support import expected_conditions as EC\n",
        "from flask import Flask, jsonify,render_template,request\n",
        "import bca\n",
        "import bsccs\n",
        "import re\n",
        "\n",
        "def get_course_semester(url):\n",
        "    # Extract the course and semester information from the URL using regex\n",
        "    match = re.search(r'/(\\w+\\d+)semresult', url)\n",
        "    if match:\n",
        "        course_semester = match.group(1)\n",
        "        course = re.search(r'^\\D+', course_semester).group()\n",
        "        semester = int(re.search(r'\\d+$', course_semester).group())\n",
        "        print(semester)\n",
        "        return (course, semester)\n",
        "    else:\n",
        "        return None\n",
        "\n",
        "# from flask_ngrok import run_with_ngrok\n",
        "\n",
        "app = Flask(__name__)\n",
        "run_with_ngrok(app) \n",
        "\n",
        "regarray = ['mm20ccsr22','mm20ccsr18', 'mm20ccsr16', 'mm20ccsr13','mm20ccsr14','mm20ccsr19','mm20ccsr30','WM20BCAR02','WM20BCAR06','WM20BCAR12','WM20BCAR01','WM20BCAR03']\n",
        "aadhararray = [686185381631,578533381676, 823508626405, 783917821528,292531761206,780080049949,885417748021,331693014683,250826071094,632336907426,814114687132,373297720804]\n",
        "# regarray = ['WM20BCAR02']\n",
        "# aadhararray = [331693014683]\n",
        "\n",
        "\n",
        "# Set Firefox options to run in headless mode\n",
        "options = Options()\n",
        "options.add_argument('-headless')\n",
        "\n",
        "cs = []\n",
        "\n",
        "def scrape(link):\n",
        "    print(\"starting...\")\n",
        "    course, semester = get_course_semester(link)\n",
        "    print(course,semester)\n",
        "    cs.clear()\n",
        "    marks_dict = {}\n",
        "    driver = webdriver.Firefox(options=options)\n",
        "    for i in range(len(aadhararray)):\n",
        "        try:\n",
        "            driver.get(link)\n",
        "            course_names = []\n",
        "            if 'ccsr' in regarray[i].lower():\n",
        "                course_names = bsccs.course_names(semester)\n",
        "            elif 'bcar' in regarray[i].lower():\n",
        "                course_names = bca.course_names(semester)\n",
        "            regno_ = driver.find_element(\"xpath\", '//*[@id=\"regno\"]')\n",
        "            regno_.send_keys(regarray[i])\n",
        "            aadhar = driver.find_element(\"xpath\", '//*[@id=\"aadhaar\"]')\n",
        "            aadhar.send_keys(int(aadhararray[i]))\n",
        "            driver.find_element(\"xpath\", '//*[@id=\"cut\"]') \\\n",
        "                .click()\n",
        "\n",
        "            wait = WebDriverWait(driver, 5)\n",
        "            wait.until(EC.presence_of_element_located((By.XPATH, '//span[contains(@style, \"left: 14\") and contains(@style, \"top: 31\")]')))\n",
        "\n",
        "            try:\n",
        "                course_spans = driver.find_elements(By.TAG_NAME,\"span\")\n",
        "                marks_dict = {}\n",
        "                for course_name in course_names:\n",
        "                    for span in course_spans:\n",
        "                        if course_name in span.text:\n",
        "                            marks = span.find_element('xpath',\"./following-sibling::span[10]\").text\n",
        "                            marks_dict[course_name] = marks\n",
        "                            break\n",
        "\n",
        "                print(marks_dict)\n",
        "            except Exception as e:\n",
        "                print(e)\n",
        "\n",
        "            name_ = driver.find_element(\"xpath\", '//span[contains(@style, \"left: 14\") and contains(@style, \"top: 31\")]').text\n",
        "            markp_element = driver.find_element(\"xpath\", '//span[contains(@style, \"left: 34.35%\") or contains(@style, \"left: 36.17%\")]')\n",
        "            if markp_element.text != '-':\n",
        "                markp = markp_element.text\n",
        "            else:\n",
        "                markp = 'Fail'\n",
        "\n",
        "            print(name_, \" completed...\")\n",
        "\n",
        "            result = {\"regno\": regarray[i], \"name\": name_, \"percentage\": markp, \"marks\": marks_dict}\n",
        "            cs.append(result)\n",
        "        except:\n",
        "            print(regarray[i], 'exception')\n",
        "\n",
        "    driver.quit()\n",
        "    try:\n",
        "        cs.sort(key=lambda x: float(x['percentage'].replace('Fail' or '-', '0')), reverse=True)\n",
        "    except:\n",
        "        print('replace exception')\n",
        "\n",
        "    return cs\n",
        "\n",
        "\n",
        "\n",
        "\n",
        "\n",
        "# print(scrape('http://www.exam.kannuruniversity.ac.in/UG/bsc2semresult2020_new/result19.php'))\n",
        "\n",
        "@app.route('/cs')\n",
        "def get_cs():\n",
        "    link = request.args.get('link')\n",
        "    return jsonify(scrape(link))\n",
        "\n",
        "@app.route('/')\n",
        "def index():\n",
        "    print('req')\n",
        "    return render_template(\"test.html\")\n",
        "\n",
        "if __name__ == '__main__':\n",
        "    app.run()"
      ],
      "metadata": {
        "colab": {
          "base_uri": "https://localhost:8080/"
        },
        "id": "XL2dKW9qbqW3",
        "outputId": "cb14a52c-964a-4118-c0dd-c0da225d6b34"
      },
      "execution_count": null,
      "outputs": [
        {
          "output_type": "stream",
          "name": "stdout",
          "text": [
            " * Serving Flask app '__main__'\n",
            " * Debug mode: off\n"
          ]
        },
        {
          "output_type": "stream",
          "name": "stderr",
          "text": [
            "INFO:werkzeug:\u001b[31m\u001b[1mWARNING: This is a development server. Do not use it in a production deployment. Use a production WSGI server instead.\u001b[0m\n",
            " * Running on http://127.0.0.1:5000\n",
            "INFO:werkzeug:\u001b[33mPress CTRL+C to quit\u001b[0m\n"
          ]
        },
        {
          "output_type": "stream",
          "name": "stdout",
          "text": [
            " * Running on http://deed-35-203-158-22.ngrok.io\n",
            " * Traffic stats available on http://127.0.0.1:4040\n"
          ]
        },
        {
          "output_type": "stream",
          "name": "stderr",
          "text": [
            "INFO:werkzeug:127.0.0.1 - - [11/Mar/2023 06:53:49] \"GET / HTTP/1.1\" 200 -\n"
          ]
        },
        {
          "output_type": "stream",
          "name": "stdout",
          "text": [
            "req\n",
            "starting...\n",
            "4\n",
            "bsc 4\n",
            "{'Digital Electronics': '45', 'Operating Systems': '48', 'Software Engineering': '38', 'LabII: Data Structures Using C++': '25', 'Lab III: Database Managenent System': '24', 'Mathematics for Computer Science IV': '47', 'Statistical Inference': '47'}\n",
            "SANOOP P J  completed...\n",
            "{'Digital Electronics': '35', 'Operating Systems': '43', 'Software Engineering': '34', 'LabII: Data Structures Using C++': '25', 'Lab III: Database Managenent System': '24', 'Mathematics for Computer Science IV': '41', 'Statistical Inference': '24'}\n",
            "JOYAL JOSE  completed...\n",
            "{'Digital Electronics': '35', 'Operating Systems': '42', 'Software Engineering': '40', 'LabII: Data Structures Using C++': '25', 'Lab III: Database Managenent System': '24', 'Mathematics for Computer Science IV': '47', 'Statistical Inference': '35'}\n",
            "JAIS BINOY  completed...\n",
            "{'Digital Electronics': '34', 'Operating Systems': '39', 'Software Engineering': '39', 'LabII: Data Structures Using C++': '21', 'Lab III: Database Managenent System': '24', 'Mathematics for Computer Science IV': '45', 'Statistical Inference': '27'}\n",
            "ATHUL VARKEY  completed...\n",
            "{'Digital Electronics': '29', 'Operating Systems': '33', 'Software Engineering': '32', 'LabII: Data Structures Using C++': '14', 'Lab III: Database Managenent System': '21', 'Mathematics for Computer Science IV': '39', 'Statistical Inference': '23'}\n",
            "BIMAL KRISHNA  completed...\n",
            "{'Digital Electronics': '38', 'Operating Systems': '45', 'Software Engineering': '33', 'LabII: Data Structures Using C++': '24', 'Lab III: Database Managenent System': '23', 'Mathematics for Computer Science IV': '44', 'Statistical Inference': '35'}\n",
            "LIJO N S  completed...\n",
            "{'Digital Electronics': '34', 'Operating Systems': '31', 'Software Engineering': '24', 'LabII: Data Structures Using C++': '24', 'Lab III: Database Managenent System': '22', 'Mathematics for Computer Science IV': '38', 'Statistical Inference': '26'}\n",
            "SHIHANA V P  completed...\n",
            "{'Discrete Mathematical Structures': '34', 'Lab III: Data Structures and DBMS': '19', 'Software Engineering': '33', 'Computer Organization': '26', 'Linux Administration': '30', 'Lab IV: Java Programming, Shell': '15', 'Mathematics for BCA IV': '32'}\n",
            "EBIN THOMAS  completed...\n",
            "{'Discrete Mathematical Structures': '24', 'Lab III: Data Structures and DBMS': '15', 'Software Engineering': '32', 'Computer Organization': '26', 'Linux Administration': '25', 'Lab IV: Java Programming, Shell': '15', 'Mathematics for BCA IV': '24'}\n",
            "JESNI FAISAL K F  completed...\n",
            "{'Discrete Mathematical Structures': '41', 'Lab III: Data Structures and DBMS': '24', 'Software Engineering': '39', 'Computer Organization': '42', 'Linux Administration': '44', 'Lab IV: Java Programming, Shell': '25', 'Mathematics for BCA IV': '47'}\n",
            "RISHWAL T P  completed...\n",
            "{'Discrete Mathematical Structures': '34', 'Lab III: Data Structures and DBMS': '17', 'Software Engineering': '44', 'Computer Organization': '38', 'Linux Administration': '40', 'Lab IV: Java Programming, Shell': '16', 'Mathematics for BCA IV': '44'}\n",
            "ABHAY FRANCIS  completed...\n",
            "{'Discrete Mathematical Structures': '31', 'Lab III: Data Structures and DBMS': '16', 'Software Engineering': '35', 'Computer Organization': '28', 'Linux Administration': '40', 'Lab IV: Java Programming, Shell': '17', 'Mathematics for BCA IV': '39'}\n",
            "MUHAMMAD MUBASHEER A  completed...\n"
          ]
        },
        {
          "output_type": "stream",
          "name": "stderr",
          "text": [
            "INFO:werkzeug:127.0.0.1 - - [11/Mar/2023 06:55:48] \"GET /cs?link=http://www.exam.kannuruniversity.ac.in/UG/bsc4semresult2022_new/result19.php HTTP/1.1\" 200 -\n"
          ]
        },
        {
          "output_type": "stream",
          "name": "stdout",
          "text": [
            "starting...\n",
            "5\n",
            "bsc 5\n",
            "{'Web Technology': '44', 'Java Programming': '41', 'Computation Using Python': '35', 'Algorithm Designing': '41', 'Quantitative Arithmetic and Reasoning': '25'}\n",
            "SANOOP P J  completed...\n",
            "{'Web Technology': '38', 'Java Programming': '42', 'Computation Using Python': '38', 'Algorithm Designing': '44', 'Quantitative Arithmetic and Reasoning': '25'}\n",
            "JOYAL JOSE  completed...\n",
            "{'Web Technology': '43', 'Java Programming': '40', 'Computation Using Python': '39', 'Algorithm Designing': '40'}\n",
            "JAIS BINOY  completed...\n",
            "{'Web Technology': '40', 'Java Programming': '35', 'Computation Using Python': '37', 'Algorithm Designing': '48', 'Quantitative Arithmetic and Reasoning': '25'}\n",
            "ATHUL VARKEY  completed...\n",
            "{'Web Technology': '24', 'Java Programming': '29', 'Computation Using Python': '26', 'Algorithm Designing': '28'}\n",
            "BIMAL KRISHNA  completed...\n",
            "{'Web Technology': '38', 'Java Programming': '35', 'Computation Using Python': '33', 'Algorithm Designing': '46'}\n",
            "LIJO N S  completed...\n",
            "{'Web Technology': '40', 'Java Programming': '31', 'Computation Using Python': '33', 'Algorithm Designing': '35'}\n",
            "SHIHANA V P  completed...\n",
            "{'Operating System': '27', 'Enterprise Java Programming': '31', 'Python Programming': '26', 'Web Technology': '36', 'Information Security': '29', 'E- Commerce': '17'}\n",
            "EBIN THOMAS  completed...\n",
            "{'Operating System': '19', 'Enterprise Java Programming': '33', 'Python Programming': '26', 'Web Technology': '26', 'Information Security': '31', 'E- Commerce': '18'}\n",
            "JESNI FAISAL K F  completed...\n",
            "{'Operating System': '35', 'Enterprise Java Programming': '40', 'Python Programming': '42', 'Web Technology': '36', 'Information Security': '29', 'E- Commerce': '21'}\n",
            "RISHWAL T P  completed...\n",
            "{'Operating System': '33', 'Enterprise Java Programming': '38', 'Python Programming': '34', 'Web Technology': '36', 'Information Security': '36', 'E- Commerce': '16'}\n",
            "ABHAY FRANCIS  completed...\n",
            "{'Operating System': '28', 'Enterprise Java Programming': '22', 'Python Programming': '23', 'Web Technology': '29', 'Information Security': '32', 'E- Commerce': '19'}\n",
            "MUHAMMAD MUBASHEER A  completed...\n"
          ]
        },
        {
          "output_type": "stream",
          "name": "stderr",
          "text": [
            "INFO:werkzeug:127.0.0.1 - - [11/Mar/2023 07:07:35] \"GET /cs?link=http://www.exam.kannuruniversity.ac.in/UG/bsc5semresult2021/result19.php HTTP/1.1\" 200 -\n"
          ]
        }
      ]
    },
    {
      "cell_type": "code",
      "source": [
        "!python /content/illeterate-computing-machine/test_socket.py"
      ],
      "metadata": {
        "colab": {
          "base_uri": "https://localhost:8080/"
        },
        "id": "GMGoE_zUcXNF",
        "outputId": "c6d05187-e52f-4ad0-d114-558bc3c68eb4"
      },
      "execution_count": 23,
      "outputs": [
        {
          "output_type": "stream",
          "name": "stdout",
          "text": [
            " * Serving Flask app 'test_socket'\n",
            " * Debug mode: on\n",
            "\u001b[31m\u001b[1mWARNING: This is a development server. Do not use it in a production deployment. Use a production WSGI server instead.\u001b[0m\n",
            " * Running on http://127.0.0.1:5000\n",
            "\u001b[33mPress CTRL+C to quit\u001b[0m\n",
            " * Restarting with stat\n",
            " * Debugger is active!\n",
            " * Debugger PIN: 558-364-090\n"
          ]
        }
      ]
    },
    {
      "cell_type": "code",
      "source": [],
      "metadata": {
        "id": "H-P_ymOwcYov"
      },
      "execution_count": null,
      "outputs": []
    }
  ],
  "metadata": {
    "colab": {
      "provenance": [],
      "authorship_tag": "ABX9TyOOUKqckV9xQSbNj4lRSvum",
      "include_colab_link": true
    },
    "kernelspec": {
      "display_name": "Python 3",
      "name": "python3"
    },
    "language_info": {
      "name": "python"
    }
  },
  "nbformat": 4,
  "nbformat_minor": 0
}